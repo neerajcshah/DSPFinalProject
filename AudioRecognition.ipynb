{
 "cells": [
  {
   "cell_type": "markdown",
   "metadata": {},
   "source": [
    "# Audio Recognition\n",
    "### Tim Nguyen & Neeraj Shah\n",
    "---\n",
    "\n",
    "\n",
    "In the following code portions below, we implement a barebones version of how audio recognition works using the core concept sof digital signal processing.  This involves sampling the analog signal (sound input), converting it a digital signal, performing a discrete fourier transform, and matching the audio fingerprints with a predefined database.\n",
    "\n",
    "### Dependencies\n",
    "\n",
    "1) Need to have PyAudio library.  Install with python's package manager `pip` :\n",
    "\n",
    "`pip install pyaudio`\n",
    "\n"
   ]
  },
  {
   "cell_type": "code",
   "execution_count": 19,
   "metadata": {},
   "outputs": [],
   "source": [
    "# Import required libraries\n",
    "\n",
    "from sys import byteorder\n",
    "from array import array\n",
    "import time\n",
    "import copy\n",
    "import pyaudio\n",
    "import wave\n",
    "import numpy as np\n",
    "import matplotlib.pyplot as plt\n",
    "import scipy\n",
    "import scipy.io\n"
   ]
  },
  {
   "cell_type": "code",
   "execution_count": 17,
   "metadata": {},
   "outputs": [],
   "source": [
    "# Sample the songs in the library to create the TRUE database.\n",
    "\n"
   ]
  },
  {
   "cell_type": "markdown",
   "metadata": {},
   "source": [
    "## Code below deals with audio input\n",
    "\n",
    "Records audio and saves to a .WAV file for a specified amount of seconds."
   ]
  },
  {
   "cell_type": "code",
   "execution_count": 11,
   "metadata": {},
   "outputs": [],
   "source": [
    "def record(fileName):\n",
    "    \n",
    "    CHUNK = 1024\n",
    "    FORMAT = pyaudio.paInt16\n",
    "    CHANNELS = 1\n",
    "    RATE = 44100  # Sampling Rate\n",
    "    RECORD_SECONDS = 5\n",
    "    WAVE_OUTPUT_FILENAME = fileName\n",
    "\n",
    "    p = pyaudio.PyAudio()\n",
    "\n",
    "    stream = p.open(format=FORMAT,\n",
    "                    channels=CHANNELS,\n",
    "                    rate=RATE,\n",
    "                    input=True,\n",
    "                    frames_per_buffer=CHUNK)\n",
    "\n",
    "    print(\"Recording Audio ... \")\n",
    "\n",
    "    frames = []\n",
    "\n",
    "    for i in range(0, int(RATE / CHUNK * RECORD_SECONDS)):\n",
    "        data = stream.read(CHUNK)\n",
    "        frames.append(data)\n",
    "\n",
    "    print(\"Recording Finished\")\n",
    "\n",
    "    stream.stop_stream()\n",
    "    stream.close()\n",
    "    p.terminate()\n",
    "\n",
    "    wf = wave.open(WAVE_OUTPUT_FILENAME, 'wb')\n",
    "    wf.setnchannels(CHANNELS)\n",
    "    wf.setsampwidth(p.get_sample_size(FORMAT))\n",
    "    wf.setframerate(RATE)\n",
    "    wf.writeframes(b''.join(frames))\n",
    "    wf.close()\n",
    "    \n",
    "def play(fileName):\n",
    "\n",
    "    wf = wave.open(fileName, 'rb')\n",
    "\n",
    "    p = pyaudio.PyAudio()\n",
    "\n",
    "    def callback(in_data, frame_count, time_info, status):\n",
    "        data = wf.readframes(frame_count)\n",
    "        return (data, pyaudio.paContinue)\n",
    "\n",
    "    stream = p.open(format=p.get_format_from_width(wf.getsampwidth()),\n",
    "                    channels=wf.getnchannels(),\n",
    "                    rate=wf.getframerate(),\n",
    "                    output=True,\n",
    "                    stream_callback=callback)\n",
    "\n",
    "    stream.start_stream()\n",
    "\n",
    "    i = 0\n",
    "    # while stream.is_active():\n",
    "    while i < 125:\n",
    "        time.sleep(0.1)\n",
    "        i += 1\n",
    "\n",
    "    stream.stop_stream()\n",
    "    stream.close()\n",
    "    wf.close()\n",
    "\n",
    "    p.terminate()"
   ]
  },
  {
   "cell_type": "code",
   "execution_count": 23,
   "metadata": {},
   "outputs": [
    {
     "name": "stdout",
     "output_type": "stream",
     "text": [
      "* recording\n",
      "* done recording\n"
     ]
    }
   ],
   "source": [
    "record(\"test.wav\")  # Test record"
   ]
  },
  {
   "cell_type": "code",
   "execution_count": 12,
   "metadata": {},
   "outputs": [],
   "source": [
    "play(\"billiejeanwav.wav\")"
   ]
  },
  {
   "cell_type": "code",
   "execution_count": 21,
   "metadata": {},
   "outputs": [
    {
     "name": "stdout",
     "output_type": "stream",
     "text": [
      "(44100, (12973871, 2))\n"
     ]
    },
    {
     "name": "stderr",
     "output_type": "stream",
     "text": [
      "/usr/local/lib/python2.7/site-packages/matplotlib/axes/_axes.py:7222: RuntimeWarning: divide by zero encountered in log10\n",
      "  Z = 10. * np.log10(spec)\n"
     ]
    },
    {
     "data": {
      "text/plain": [
       "(array([[  0.00000000e+00,   0.00000000e+00,   0.00000000e+00, ...,\n",
       "           2.22392700e-07,   4.02813114e-06,   4.17905738e-06],\n",
       "        [  0.00000000e+00,   0.00000000e+00,   0.00000000e+00, ...,\n",
       "           1.45428763e-06,   4.37183538e-06,   2.20481872e-06],\n",
       "        [  0.00000000e+00,   0.00000000e+00,   0.00000000e+00, ...,\n",
       "           1.19073358e-06,   7.66671975e-07,   1.53443377e-06],\n",
       "        ..., \n",
       "        [  0.00000000e+00,   0.00000000e+00,   0.00000000e+00, ...,\n",
       "           7.34012043e-06,   1.21088359e-06,   4.14202951e-06],\n",
       "        [  0.00000000e+00,   0.00000000e+00,   0.00000000e+00, ...,\n",
       "           1.05143587e-05,   3.45534693e-06,   1.24720335e-06],\n",
       "        [  0.00000000e+00,   0.00000000e+00,   0.00000000e+00, ...,\n",
       "           4.60010705e-06,   4.77152239e-06,   1.38953785e-10]]),\n",
       " array([     0.      ,    172.265625,    344.53125 ,    516.796875,\n",
       "           689.0625  ,    861.328125,   1033.59375 ,   1205.859375,\n",
       "          1378.125   ,   1550.390625,   1722.65625 ,   1894.921875,\n",
       "          2067.1875  ,   2239.453125,   2411.71875 ,   2583.984375,\n",
       "          2756.25    ,   2928.515625,   3100.78125 ,   3273.046875,\n",
       "          3445.3125  ,   3617.578125,   3789.84375 ,   3962.109375,\n",
       "          4134.375   ,   4306.640625,   4478.90625 ,   4651.171875,\n",
       "          4823.4375  ,   4995.703125,   5167.96875 ,   5340.234375,\n",
       "          5512.5     ,   5684.765625,   5857.03125 ,   6029.296875,\n",
       "          6201.5625  ,   6373.828125,   6546.09375 ,   6718.359375,\n",
       "          6890.625   ,   7062.890625,   7235.15625 ,   7407.421875,\n",
       "          7579.6875  ,   7751.953125,   7924.21875 ,   8096.484375,\n",
       "          8268.75    ,   8441.015625,   8613.28125 ,   8785.546875,\n",
       "          8957.8125  ,   9130.078125,   9302.34375 ,   9474.609375,\n",
       "          9646.875   ,   9819.140625,   9991.40625 ,  10163.671875,\n",
       "         10335.9375  ,  10508.203125,  10680.46875 ,  10852.734375,\n",
       "         11025.      ,  11197.265625,  11369.53125 ,  11541.796875,\n",
       "         11714.0625  ,  11886.328125,  12058.59375 ,  12230.859375,\n",
       "         12403.125   ,  12575.390625,  12747.65625 ,  12919.921875,\n",
       "         13092.1875  ,  13264.453125,  13436.71875 ,  13608.984375,\n",
       "         13781.25    ,  13953.515625,  14125.78125 ,  14298.046875,\n",
       "         14470.3125  ,  14642.578125,  14814.84375 ,  14987.109375,\n",
       "         15159.375   ,  15331.640625,  15503.90625 ,  15676.171875,\n",
       "         15848.4375  ,  16020.703125,  16192.96875 ,  16365.234375,\n",
       "         16537.5     ,  16709.765625,  16882.03125 ,  17054.296875,\n",
       "         17226.5625  ,  17398.828125,  17571.09375 ,  17743.359375,\n",
       "         17915.625   ,  18087.890625,  18260.15625 ,  18432.421875,\n",
       "         18604.6875  ,  18776.953125,  18949.21875 ,  19121.484375,\n",
       "         19293.75    ,  19466.015625,  19638.28125 ,  19810.546875,\n",
       "         19982.8125  ,  20155.078125,  20327.34375 ,  20499.609375,\n",
       "         20671.875   ,  20844.140625,  21016.40625 ,  21188.671875,\n",
       "         21360.9375  ,  21533.203125,  21705.46875 ,  21877.734375,  22050.      ]),\n",
       " array([  2.90249433e-03,   5.80498866e-03,   8.70748299e-03, ...,\n",
       "          2.94182313e+02,   2.94185215e+02,   2.94188118e+02]),\n",
       " <matplotlib.image.AxesImage at 0x113091b10>)"
      ]
     },
     "execution_count": 21,
     "metadata": {},
     "output_type": "execute_result"
    }
   ],
   "source": [
    "sample_rate, X = scipy.io.wavfile.read('billiejeanwav.wav')\n",
    "print (sample_rate, X.shape )\n",
    "plt.specgram(X[:,0], Fs=sample_rate, xextent=(0,30))\n",
    "\n",
    "\n",
    "\n",
    "\n",
    "#plt.pcolormesh(times, frequencies, spectogram)\n",
    "#plt.imshow(spectogram)\n",
    "#plt.ylabel('Frequency [Hz]')\n",
    "#plt.xlabel('Time [sec]')\n",
    "#plt.show()"
   ]
  },
  {
   "cell_type": "code",
   "execution_count": null,
   "metadata": {},
   "outputs": [],
   "source": []
  }
 ],
 "metadata": {
  "anaconda-cloud": {},
  "kernelspec": {
   "display_name": "Python 2",
   "language": "python",
   "name": "python2"
  },
  "language_info": {
   "codemirror_mode": {
    "name": "ipython",
    "version": 2
   },
   "file_extension": ".py",
   "mimetype": "text/x-python",
   "name": "python",
   "nbconvert_exporter": "python",
   "pygments_lexer": "ipython2",
   "version": "2.7.13"
  }
 },
 "nbformat": 4,
 "nbformat_minor": 1
}
